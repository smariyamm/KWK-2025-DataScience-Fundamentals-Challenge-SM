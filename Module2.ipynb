{
 "cells": [
  {
   "cell_type": "code",
   "execution_count": 1,
   "metadata": {},
   "outputs": [],
   "source": [
    "# Learning Numpy and Pandas\n",
    "# From: https://realpython.com/python-data-cleaning-numpy-pandas/"
   ]
  },
  {
   "cell_type": "code",
   "execution_count": 2,
   "metadata": {},
   "outputs": [
    {
     "data": {
      "text/html": [
       "<div>\n",
       "<style scoped>\n",
       "    .dataframe tbody tr th:only-of-type {\n",
       "        vertical-align: middle;\n",
       "    }\n",
       "\n",
       "    .dataframe tbody tr th {\n",
       "        vertical-align: top;\n",
       "    }\n",
       "\n",
       "    .dataframe thead th {\n",
       "        text-align: right;\n",
       "    }\n",
       "</style>\n",
       "<table border=\"1\" class=\"dataframe\">\n",
       "  <thead>\n",
       "    <tr style=\"text-align: right;\">\n",
       "      <th></th>\n",
       "      <th>Year</th>\n",
       "      <th>Day</th>\n",
       "      <th>Amount_Lost_INR</th>\n",
       "      <th>Incident_Type</th>\n",
       "      <th>City</th>\n",
       "      <th>Category</th>\n",
       "    </tr>\n",
       "  </thead>\n",
       "  <tbody>\n",
       "    <tr>\n",
       "      <th>0</th>\n",
       "      <td>2022</td>\n",
       "      <td>22</td>\n",
       "      <td>86530</td>\n",
       "      <td>Data Breach</td>\n",
       "      <td>Bangalore</td>\n",
       "      <td>Corporate</td>\n",
       "    </tr>\n",
       "    <tr>\n",
       "      <th>1</th>\n",
       "      <td>2023</td>\n",
       "      <td>21</td>\n",
       "      <td>231983</td>\n",
       "      <td>Phishing</td>\n",
       "      <td>Kolkata</td>\n",
       "      <td>Educational</td>\n",
       "    </tr>\n",
       "    <tr>\n",
       "      <th>2</th>\n",
       "      <td>2021</td>\n",
       "      <td>6</td>\n",
       "      <td>284707</td>\n",
       "      <td>Data Breach</td>\n",
       "      <td>Bangalore</td>\n",
       "      <td>E-commerce</td>\n",
       "    </tr>\n",
       "    <tr>\n",
       "      <th>3</th>\n",
       "      <td>2023</td>\n",
       "      <td>6</td>\n",
       "      <td>433557</td>\n",
       "      <td>Phishing</td>\n",
       "      <td>Ahmedabad</td>\n",
       "      <td>Health</td>\n",
       "    </tr>\n",
       "    <tr>\n",
       "      <th>4</th>\n",
       "      <td>2023</td>\n",
       "      <td>23</td>\n",
       "      <td>378816</td>\n",
       "      <td>Phishing</td>\n",
       "      <td>Jaipur</td>\n",
       "      <td>Government</td>\n",
       "    </tr>\n",
       "  </tbody>\n",
       "</table>\n",
       "</div>"
      ],
      "text/plain": [
       "   Year  Day  Amount_Lost_INR Incident_Type       City     Category\n",
       "0  2022   22            86530   Data Breach  Bangalore    Corporate\n",
       "1  2023   21           231983      Phishing    Kolkata  Educational\n",
       "2  2021    6           284707   Data Breach  Bangalore   E-commerce\n",
       "3  2023    6           433557      Phishing  Ahmedabad       Health\n",
       "4  2023   23           378816      Phishing     Jaipur   Government"
      ]
     },
     "execution_count": 2,
     "metadata": {},
     "output_type": "execute_result"
    }
   ],
   "source": [
    "import pandas as pd\n",
    "import numpy as np\n",
    "\n",
    "df = pd.read_csv('Datasets/cybersecurity_cases_india_combined.csv')\n",
    "df.head() # shows first 5 entries"
   ]
  },
  {
   "cell_type": "code",
   "execution_count": 3,
   "metadata": {},
   "outputs": [
    {
     "data": {
      "text/html": [
       "<div>\n",
       "<style scoped>\n",
       "    .dataframe tbody tr th:only-of-type {\n",
       "        vertical-align: middle;\n",
       "    }\n",
       "\n",
       "    .dataframe tbody tr th {\n",
       "        vertical-align: top;\n",
       "    }\n",
       "\n",
       "    .dataframe thead th {\n",
       "        text-align: right;\n",
       "    }\n",
       "</style>\n",
       "<table border=\"1\" class=\"dataframe\">\n",
       "  <thead>\n",
       "    <tr style=\"text-align: right;\">\n",
       "      <th></th>\n",
       "      <th>Year</th>\n",
       "      <th>Incident_Type</th>\n",
       "      <th>Category</th>\n",
       "    </tr>\n",
       "  </thead>\n",
       "  <tbody>\n",
       "    <tr>\n",
       "      <th>0</th>\n",
       "      <td>2022</td>\n",
       "      <td>Data Breach</td>\n",
       "      <td>Corporate</td>\n",
       "    </tr>\n",
       "    <tr>\n",
       "      <th>1</th>\n",
       "      <td>2023</td>\n",
       "      <td>Phishing</td>\n",
       "      <td>Educational</td>\n",
       "    </tr>\n",
       "    <tr>\n",
       "      <th>2</th>\n",
       "      <td>2021</td>\n",
       "      <td>Data Breach</td>\n",
       "      <td>E-commerce</td>\n",
       "    </tr>\n",
       "    <tr>\n",
       "      <th>3</th>\n",
       "      <td>2023</td>\n",
       "      <td>Phishing</td>\n",
       "      <td>Health</td>\n",
       "    </tr>\n",
       "    <tr>\n",
       "      <th>4</th>\n",
       "      <td>2023</td>\n",
       "      <td>Phishing</td>\n",
       "      <td>Government</td>\n",
       "    </tr>\n",
       "  </tbody>\n",
       "</table>\n",
       "</div>"
      ],
      "text/plain": [
       "   Year Incident_Type     Category\n",
       "0  2022   Data Breach    Corporate\n",
       "1  2023      Phishing  Educational\n",
       "2  2021   Data Breach   E-commerce\n",
       "3  2023      Phishing       Health\n",
       "4  2023      Phishing   Government"
      ]
     },
     "execution_count": 3,
     "metadata": {},
     "output_type": "execute_result"
    }
   ],
   "source": [
    "to_drop = ['Day','Amount_Lost_INR','City'] # drop irrelevant headers\n",
    "# df.drop(to_drop, inplace=True, axis=1)\n",
    "df.drop(columns=to_drop, inplace=True) # both do the same\n",
    "df.head()"
   ]
  },
  {
   "cell_type": "code",
   "execution_count": 4,
   "metadata": {},
   "outputs": [
    {
     "data": {
      "text/plain": [
       "Year                    2022\n",
       "Incident_Type    Data Breach\n",
       "Category           Corporate\n",
       "Name: 0, dtype: object"
      ]
     },
     "execution_count": 4,
     "metadata": {},
     "output_type": "execute_result"
    }
   ],
   "source": [
    "df['Incident_Type'].is_unique # accessing a single line based off index\n",
    "df.loc[0]"
   ]
  },
  {
   "cell_type": "code",
   "execution_count": 5,
   "metadata": {},
   "outputs": [
    {
     "data": {
      "text/plain": [
       "10          Phishing\n",
       "11      Online Fraud\n",
       "12      Online Fraud\n",
       "13      Online Fraud\n",
       "14       Data Breach\n",
       "15        Ransomware\n",
       "16       Data Breach\n",
       "17    Identity Theft\n",
       "18        Ransomware\n",
       "19           Malware\n",
       "Name: Incident_Type, dtype: object"
      ]
     },
     "execution_count": 5,
     "metadata": {},
     "output_type": "execute_result"
    }
   ],
   "source": [
    "# df.get_dtype_counts()\n",
    "df.loc[10:, 'Incident_Type'].head(10) # get specific head data and how much"
   ]
  },
  {
   "cell_type": "code",
   "execution_count": 6,
   "metadata": {},
   "outputs": [
    {
     "data": {
      "text/plain": [
       "np.float64(1.0)"
      ]
     },
     "execution_count": 6,
     "metadata": {},
     "output_type": "execute_result"
    }
   ],
   "source": [
    "extr = df['Incident_Type'].str.extract(r'^(\\d{4})', expand=False)\n",
    "extr.head()\n",
    "df['Incident_Type'] = pd.to_numeric(extr) # we can easily get its numerical version with pd.to_numeric:\n",
    "df['Incident_Type'].dtype\n",
    "df['Incident_Type'].isnull().sum() / len(df) # 1.0, no missing data!\n"
   ]
  },
  {
   "cell_type": "code",
   "execution_count": 7,
   "metadata": {},
   "outputs": [
    {
     "name": "stdout",
     "output_type": "stream",
     "text": [
      "Columns: ['Year', 'Day', 'Amount_Lost_INR', 'Incident_Type', 'City', 'Category']\n",
      "\n",
      "First 5 rows:\n",
      "   Year  Day  Amount_Lost_INR Incident_Type       City     Category\n",
      "0  2022   22            86530   Data Breach  Bangalore    Corporate\n",
      "1  2023   21           231983      Phishing    Kolkata  Educational\n",
      "2  2021    6           284707   Data Breach  Bangalore   E-commerce\n",
      "3  2023    6           433557      Phishing  Ahmedabad       Health\n",
      "4  2023   23           378816      Phishing     Jaipur   Government\n"
     ]
    }
   ],
   "source": [
    "df = pd.read_csv(\n",
    "    \"Datasets/cybersecurity_cases_india_combined.csv\",\n",
    "    on_bad_lines=\"skip\"  # skips rows with wrong number of columns/missing data\n",
    ")\n",
    "\n",
    "print(\"Columns:\", df.columns.tolist())\n",
    "print(\"\\nFirst 5 rows:\")\n",
    "print(df.head())"
   ]
  }
 ],
 "metadata": {
  "kernelspec": {
   "display_name": "base",
   "language": "python",
   "name": "python3"
  },
  "language_info": {
   "codemirror_mode": {
    "name": "ipython",
    "version": 3
   },
   "file_extension": ".py",
   "mimetype": "text/x-python",
   "name": "python",
   "nbconvert_exporter": "python",
   "pygments_lexer": "ipython3",
   "version": "3.12.2"
  }
 },
 "nbformat": 4,
 "nbformat_minor": 2
}
